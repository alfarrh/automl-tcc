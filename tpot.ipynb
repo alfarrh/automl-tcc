{
 "cells": [
  {
   "cell_type": "markdown",
   "id": "8269e100",
   "metadata": {},
   "source": [
    "## Data"
   ]
  },
  {
   "cell_type": "code",
   "execution_count": 1,
   "id": "9df0c4f2",
   "metadata": {},
   "outputs": [
    {
     "name": "stdout",
     "output_type": "stream",
     "text": [
      "Current directory: c:\\Users\\Alvaro Lima\\My Files\\Projects\\automl-tcc\\src\n",
      "Source path found in current directory.\n"
     ]
    }
   ],
   "source": [
    "from libs.paths import PATHS\n",
    "from libs.pre_processing.training_data import read_data, train_test_split\n",
    "from libs.pre_processing.pipeline import make_pipeline"
   ]
  },
  {
   "cell_type": "code",
   "execution_count": 2,
   "id": "b5d13a21",
   "metadata": {},
   "outputs": [],
   "source": [
    "# Oversampling\n",
    "from imblearn.over_sampling import SMOTE\n",
    "\n",
    "smote = SMOTE(\n",
    "    sampling_strategy=1,  \n",
    "    k_neighbors=5,             \n",
    "    random_state=42            \n",
    ")"
   ]
  },
  {
   "cell_type": "code",
   "execution_count": 3,
   "id": "6a6b759f",
   "metadata": {},
   "outputs": [],
   "source": [
    "# Raw data\n",
    "X, y = read_data(PATHS[\"ADULT_INCOME\"], \"income\")\n",
    "\n",
    "# map target variable to binary\n",
    "y = y.map({\"<=50K\": 0, \">50K\": 1})\n",
    "\n",
    "X_train, X_test, y_train, y_test = train_test_split(\n",
    "        X, y, train_size=0.7, stratify=y, random_state=42)\n",
    "\n",
    "# Pre-processed data\n",
    "pipeline = make_pipeline(X_train)\n",
    "X_transformed = pipeline.fit_transform(X_train)\n",
    "X_test_transformed = pipeline.transform(X_test)\n",
    "\n",
    "# Balanced data\n",
    "X_balanced, y_balanced = smote.fit_resample(X_transformed, y_train)"
   ]
  },
  {
   "cell_type": "code",
   "execution_count": 4,
   "id": "85ad8d2f",
   "metadata": {},
   "outputs": [
    {
     "name": "stdout",
     "output_type": "stream",
     "text": [
      "(34189, 14)\n",
      "(34189,)\n",
      "(array([0, 1], dtype=int64), array([26008,  8181], dtype=int64))\n"
     ]
    }
   ],
   "source": [
    "import numpy as np\n",
    "\n",
    "print(X_train.shape)\n",
    "print(y_train.shape)\n",
    "print(np.unique(y_train, return_counts=True))"
   ]
  },
  {
   "cell_type": "markdown",
   "id": "60416382",
   "metadata": {},
   "source": [
    "## TPOT"
   ]
  },
  {
   "cell_type": "markdown",
   "id": "1a8718df",
   "metadata": {},
   "source": [
    "### Results"
   ]
  },
  {
   "cell_type": "code",
   "execution_count": null,
   "id": "5b765895",
   "metadata": {},
   "outputs": [],
   "source": [
    "from tpot import TPOTEstimator\n",
    "\n",
    "# TPOT configuration\n",
    "# Search spaces:\n",
    "# - \"linear\": A linear pipeline\n",
    "# - \"linear-light\": A linear pipeline with no inner classifiers\n",
    "# - \"graph\": A graph-based pipeline\n",
    "# - \"graph-light\": A graph-based pipeline with no inner classifiers\n",
    "# - \"mdr\": A multifactor dimensionality reduction pipeline (used for genetic data)\n",
    "\n",
    "args = {\n",
    "    \"search_space\":\"linear-light\",\n",
    "    \"generations\":10, # Number of generations to run\n",
    "    \"population_size\":30, # Number of individuals in each generation (genetic alg population size)\n",
    "    \"max_time_mins\":None,\n",
    "    \"scorers\":[\"roc_auc\"],\n",
    "    \"scorers_weights\":[1],\n",
    "    \"classification\":True,\n",
    "    \"cv\":5, # Number of cross-validation folds\n",
    "    \"random_state\":42, \n",
    "    \"verbose\":3,\n",
    "    \"n_jobs\":4,\n",
    "}\n"
   ]
  },
  {
   "cell_type": "code",
   "execution_count": 6,
   "id": "0341616c",
   "metadata": {},
   "outputs": [],
   "source": [
    "from sklearn.metrics import classification_report, roc_auc_score\n",
    "\n",
    "class ModelResults:\n",
    "    automl: TPOTEstimator\n",
    "    report: str\n",
    "    roc_auc: float\n",
    "    y_pred_proba: list\n",
    "\n",
    "    def __init__(self, automl, report, roc_auc, y_pred_proba):\n",
    "        self.automl = automl\n",
    "        self.report = report\n",
    "        self.roc_auc = roc_auc\n",
    "        self.y_pred_proba = y_pred_proba\n",
    "\n",
    "def run_automl(X, y, X_test):\n",
    "    automl = TPOTEstimator(**args)\n",
    "    automl.fit(X, y)\n",
    "\n",
    "    y_pred = automl.predict(X_test)\n",
    "    y_pred_proba = automl.predict_proba(X_test)\n",
    "    \n",
    "    report = classification_report(y_test, y_pred)\n",
    "    roc_auc = roc_auc_score(y_test, y_pred_proba[:, 1])\n",
    "    \n",
    "    return ModelResults(automl, report, roc_auc, y_pred_proba)"
   ]
  },
  {
   "cell_type": "code",
   "execution_count": 21,
   "id": "8906cb2e",
   "metadata": {},
   "outputs": [
    {
     "name": "stderr",
     "output_type": "stream",
     "text": [
      "Generation:  10%|█         | 1/10 [14:21<2:09:13, 861.46s/it]"
     ]
    },
    {
     "name": "stdout",
     "output_type": "stream",
     "text": [
      "Generation:  1\n",
      "Best roc_auc_score score: 0.8943152856470888\n"
     ]
    },
    {
     "name": "stderr",
     "output_type": "stream",
     "text": [
      "Generation:  20%|██        | 2/10 [25:09<1:38:06, 735.76s/it]"
     ]
    },
    {
     "name": "stdout",
     "output_type": "stream",
     "text": [
      "Generation:  2\n",
      "Best roc_auc_score score: 0.907914745892269\n"
     ]
    },
    {
     "name": "stderr",
     "output_type": "stream",
     "text": [
      "Generation:  30%|███       | 3/10 [36:59<1:24:27, 723.90s/it]"
     ]
    },
    {
     "name": "stdout",
     "output_type": "stream",
     "text": [
      "Generation:  3\n",
      "Best roc_auc_score score: 0.9083487018374017\n"
     ]
    },
    {
     "name": "stderr",
     "output_type": "stream",
     "text": [
      "Generation:  40%|████      | 4/10 [53:28<1:22:52, 828.72s/it]"
     ]
    },
    {
     "name": "stdout",
     "output_type": "stream",
     "text": [
      "Generation:  4\n",
      "Best roc_auc_score score: 0.9083487018374017\n"
     ]
    },
    {
     "name": "stderr",
     "output_type": "stream",
     "text": [
      "Generation:  50%|█████     | 5/10 [1:13:54<1:20:59, 971.92s/it]"
     ]
    },
    {
     "name": "stdout",
     "output_type": "stream",
     "text": [
      "Generation:  5\n",
      "Best roc_auc_score score: 0.908365128859512\n"
     ]
    },
    {
     "name": "stderr",
     "output_type": "stream",
     "text": [
      "Generation:  60%|██████    | 6/10 [1:33:49<1:09:50, 1047.69s/it]"
     ]
    },
    {
     "name": "stdout",
     "output_type": "stream",
     "text": [
      "Generation:  6\n",
      "Best roc_auc_score score: 0.908365128859512\n"
     ]
    },
    {
     "name": "stderr",
     "output_type": "stream",
     "text": [
      "Generation:  70%|███████   | 7/10 [1:57:28<58:27, 1169.10s/it]  "
     ]
    },
    {
     "name": "stdout",
     "output_type": "stream",
     "text": [
      "Generation:  7\n",
      "Best roc_auc_score score: 0.908365128859512\n"
     ]
    },
    {
     "name": "stderr",
     "output_type": "stream",
     "text": [
      "Generation:  80%|████████  | 8/10 [2:20:24<41:10, 1235.17s/it]"
     ]
    },
    {
     "name": "stdout",
     "output_type": "stream",
     "text": [
      "Generation:  8\n",
      "Best roc_auc_score score: 0.908365128859512\n"
     ]
    },
    {
     "name": "stderr",
     "output_type": "stream",
     "text": [
      "Generation:  90%|█████████ | 9/10 [2:40:04<20:17, 1217.75s/it]"
     ]
    },
    {
     "name": "stdout",
     "output_type": "stream",
     "text": [
      "Generation:  9\n",
      "Best roc_auc_score score: 0.908365128859512\n"
     ]
    },
    {
     "name": "stderr",
     "output_type": "stream",
     "text": [
      "Generation: 100%|██████████| 10/10 [3:00:26<00:00, 1082.61s/it]"
     ]
    },
    {
     "name": "stdout",
     "output_type": "stream",
     "text": [
      "Generation:  10\n",
      "Best roc_auc_score score: 0.908365128859512\n"
     ]
    },
    {
     "name": "stderr",
     "output_type": "stream",
     "text": [
      "\n"
     ]
    }
   ],
   "source": [
    "# Pre-processed data results\n",
    "pp_results = run_automl(X_transformed, y_train, X_test_transformed)"
   ]
  },
  {
   "cell_type": "code",
   "execution_count": 22,
   "id": "bc33d4fc",
   "metadata": {},
   "outputs": [
    {
     "name": "stdout",
     "output_type": "stream",
     "text": [
      "Raw Data Results:\n",
      "              precision    recall  f1-score   support\n",
      "\n",
      "           0       0.94      0.80      0.87     11147\n",
      "           1       0.57      0.85      0.68      3506\n",
      "\n",
      "    accuracy                           0.81     14653\n",
      "   macro avg       0.76      0.82      0.77     14653\n",
      "weighted avg       0.85      0.81      0.82     14653\n",
      "\n",
      "Best pipeline:\n",
      "Pipeline(steps=[('normalizer', Normalizer(norm='l1')),\n",
      "                ('passthrough', Passthrough()),\n",
      "                ('featureunion-1',\n",
      "                 FeatureUnion(transformer_list=[('skiptransformer',\n",
      "                                                 SkipTransformer()),\n",
      "                                                ('passthrough',\n",
      "                                                 Passthrough())])),\n",
      "                ('featureunion-2',\n",
      "                 FeatureUnion(transformer_list=[('skiptransformer',\n",
      "                                                 SkipTransformer()),\n",
      "                                                ('passthrough',\n",
      "                                                 Passthrough())])),\n",
      "                ('logisticregression',\n",
      "                 LogisticRegression(C=59.4017169173681, class_weight='balanced',\n",
      "                                    max_iter=1000, n_jobs=1, random_state=42,\n",
      "                                    solver='saga'))])\n",
      "ROC AUC: 0.9098\n"
     ]
    }
   ],
   "source": [
    "print(\"Raw Data Results:\")\n",
    "print(pp_results.report)\n",
    "print(\"Best pipeline:\")\n",
    "print(pp_results.automl.fitted_pipeline_)\n",
    "print(f\"ROC AUC: {pp_results.roc_auc:.4f}\")"
   ]
  },
  {
   "cell_type": "code",
   "execution_count": 7,
   "id": "4e539d21",
   "metadata": {},
   "outputs": [
    {
     "name": "stderr",
     "output_type": "stream",
     "text": [
      "Generation:  10%|█         | 1/10 [19:00<2:51:08, 1140.93s/it]"
     ]
    },
    {
     "name": "stdout",
     "output_type": "stream",
     "text": [
      "Generation:  1\n",
      "Best roc_auc_score score: 0.88474222948451\n"
     ]
    },
    {
     "name": "stderr",
     "output_type": "stream",
     "text": [
      "Generation:  20%|██        | 2/10 [33:03<2:08:41, 965.17s/it] "
     ]
    },
    {
     "name": "stdout",
     "output_type": "stream",
     "text": [
      "Generation:  2\n",
      "Best roc_auc_score score: 0.9283360416013515\n"
     ]
    },
    {
     "name": "stderr",
     "output_type": "stream",
     "text": [
      "Generation:  30%|███       | 3/10 [47:06<1:46:07, 909.66s/it]"
     ]
    },
    {
     "name": "stdout",
     "output_type": "stream",
     "text": [
      "Generation:  3\n",
      "Best roc_auc_score score: 0.9283360416013515\n"
     ]
    },
    {
     "name": "stderr",
     "output_type": "stream",
     "text": [
      "Generation:  40%|████      | 4/10 [1:17:34<2:07:13, 1272.23s/it]"
     ]
    },
    {
     "name": "stdout",
     "output_type": "stream",
     "text": [
      "Generation:  4\n",
      "Best roc_auc_score score: 0.9289301703449203\n"
     ]
    },
    {
     "name": "stderr",
     "output_type": "stream",
     "text": [
      "Generation:  50%|█████     | 5/10 [1:42:03<1:51:55, 1343.08s/it]"
     ]
    },
    {
     "name": "stdout",
     "output_type": "stream",
     "text": [
      "Generation:  5\n",
      "Best roc_auc_score score: 0.9289301703449203\n"
     ]
    },
    {
     "name": "stderr",
     "output_type": "stream",
     "text": [
      "Generation:  60%|██████    | 6/10 [2:04:46<1:29:59, 1349.94s/it]"
     ]
    },
    {
     "name": "stdout",
     "output_type": "stream",
     "text": [
      "Generation:  6\n",
      "Best roc_auc_score score: 0.9289301703449203\n"
     ]
    },
    {
     "name": "stderr",
     "output_type": "stream",
     "text": [
      "Generation:  70%|███████   | 7/10 [2:28:49<1:09:00, 1380.15s/it]"
     ]
    },
    {
     "name": "stdout",
     "output_type": "stream",
     "text": [
      "Generation:  7\n",
      "Best roc_auc_score score: 0.9343944708266718\n"
     ]
    },
    {
     "name": "stderr",
     "output_type": "stream",
     "text": [
      "Generation:  80%|████████  | 8/10 [2:44:26<41:18, 1239.16s/it]  "
     ]
    },
    {
     "name": "stdout",
     "output_type": "stream",
     "text": [
      "Generation:  8\n",
      "Best roc_auc_score score: 0.9343944708266718\n"
     ]
    },
    {
     "name": "stderr",
     "output_type": "stream",
     "text": [
      "Generation:  90%|█████████ | 9/10 [3:01:07<19:24, 1164.74s/it]"
     ]
    },
    {
     "name": "stdout",
     "output_type": "stream",
     "text": [
      "Generation:  9\n",
      "Best roc_auc_score score: 0.9440661315642437\n"
     ]
    },
    {
     "name": "stderr",
     "output_type": "stream",
     "text": [
      "Generation: 100%|██████████| 10/10 [3:29:30<00:00, 1257.02s/it]"
     ]
    },
    {
     "name": "stdout",
     "output_type": "stream",
     "text": [
      "Generation:  10\n",
      "Best roc_auc_score score: 0.9440661315642437\n"
     ]
    },
    {
     "name": "stderr",
     "output_type": "stream",
     "text": [
      "\n"
     ]
    }
   ],
   "source": [
    "# Balanced data results\n",
    "balanced_results = run_automl(X_balanced, y_balanced, X_test_transformed)"
   ]
  },
  {
   "cell_type": "code",
   "execution_count": 8,
   "id": "9a13d24f",
   "metadata": {},
   "outputs": [
    {
     "name": "stdout",
     "output_type": "stream",
     "text": [
      "Raw Data Results:\n",
      "              precision    recall  f1-score   support\n",
      "\n",
      "           0       0.92      0.82      0.87     11147\n",
      "           1       0.57      0.77      0.66      3506\n",
      "\n",
      "    accuracy                           0.81     14653\n",
      "   macro avg       0.75      0.79      0.76     14653\n",
      "weighted avg       0.84      0.81      0.82     14653\n",
      "\n",
      "Best pipeline:\n",
      "Pipeline(steps=[('normalizer', Normalizer(norm='l1')),\n",
      "                ('variancethreshold',\n",
      "                 VarianceThreshold(threshold=0.0003889506475)),\n",
      "                ('featureunion-1',\n",
      "                 FeatureUnion(transformer_list=[('skiptransformer',\n",
      "                                                 SkipTransformer()),\n",
      "                                                ('passthrough',\n",
      "                                                 Passthrough())])),\n",
      "                ('featureunion-2',\n",
      "                 FeatureUnion(transformer_list=[('skiptransformer',\n",
      "                                                 SkipTransformer()),\n",
      "                                                ('passthrough',\n",
      "                                                 Passthrough())])),\n",
      "                ('kneighborsclassifier',\n",
      "                 KNeighborsClassifier(n_jobs=1, n_neighbors=11, p=1,\n",
      "                                      weights='distance'))])\n",
      "ROC AUC: 0.8771\n"
     ]
    }
   ],
   "source": [
    "print(\"Raw Data Results:\")\n",
    "print(balanced_results.report)\n",
    "print(\"Best pipeline:\")\n",
    "print(balanced_results.automl.fitted_pipeline_)\n",
    "print(f\"ROC AUC: {balanced_results.roc_auc:.4f}\")"
   ]
  },
  {
   "cell_type": "markdown",
   "id": "846bf784",
   "metadata": {},
   "source": [
    "### Curves"
   ]
  },
  {
   "cell_type": "code",
   "execution_count": 9,
   "id": "3eecb2fc",
   "metadata": {},
   "outputs": [
    {
     "ename": "NameError",
     "evalue": "name 'pp_results' is not defined",
     "output_type": "error",
     "traceback": [
      "\u001b[1;31m---------------------------------------------------------------------------\u001b[0m",
      "\u001b[1;31mNameError\u001b[0m                                 Traceback (most recent call last)",
      "Cell \u001b[1;32mIn[9], line 5\u001b[0m\n\u001b[0;32m      2\u001b[0m \u001b[38;5;28;01mimport\u001b[39;00m\u001b[38;5;250m \u001b[39m\u001b[38;5;21;01mmatplotlib\u001b[39;00m\u001b[38;5;21;01m.\u001b[39;00m\u001b[38;5;21;01mpyplot\u001b[39;00m\u001b[38;5;250m \u001b[39m\u001b[38;5;28;01mas\u001b[39;00m\u001b[38;5;250m \u001b[39m\u001b[38;5;21;01mplt\u001b[39;00m\n\u001b[0;32m      4\u001b[0m \u001b[38;5;66;03m# Plotando a curva ROC\u001b[39;00m\n\u001b[1;32m----> 5\u001b[0m fpr2, tpr2, thresholds2 \u001b[38;5;241m=\u001b[39m roc_curve(y_test, \u001b[43mpp_results\u001b[49m\u001b[38;5;241m.\u001b[39my_pred_proba[:, \u001b[38;5;241m1\u001b[39m])\n\u001b[0;32m      6\u001b[0m fpr3, tpr3, thresholds3 \u001b[38;5;241m=\u001b[39m roc_curve(y_test, balanced_results\u001b[38;5;241m.\u001b[39my_pred_proba[:, \u001b[38;5;241m1\u001b[39m])\n\u001b[0;32m      8\u001b[0m plt\u001b[38;5;241m.\u001b[39mfigure()\n",
      "\u001b[1;31mNameError\u001b[0m: name 'pp_results' is not defined"
     ]
    }
   ],
   "source": [
    "from sklearn.metrics import roc_curve\n",
    "import matplotlib.pyplot as plt\n",
    "\n",
    "# Plotando a curva ROC\n",
    "fpr2, tpr2, thresholds2 = roc_curve(y_test, pp_results.y_pred_proba[:, 1])\n",
    "fpr3, tpr3, thresholds3 = roc_curve(y_test, balanced_results.y_pred_proba[:, 1])\n",
    "\n",
    "plt.figure()\n",
    "plt.plot(fpr2, tpr2, label=f'ROC (pre-processed data) (area = {pp_results.roc_auc:.2f})')\n",
    "plt.plot(fpr3, tpr3, label=f'ROC (balanced data) (area = {balanced_results.roc_auc:.2f})')\n",
    "plt.plot([0, 1], [0, 1], 'k--') \n",
    "plt.xlabel('False Positive Rate')\n",
    "plt.ylabel('True Positive Rate')\n",
    "plt.title('ROC Curve')\n",
    "plt.legend(loc=\"lower right\")\n",
    "plt.show()"
   ]
  }
 ],
 "metadata": {
  "kernelspec": {
   "display_name": "tpot",
   "language": "python",
   "name": "python3"
  },
  "language_info": {
   "codemirror_mode": {
    "name": "ipython",
    "version": 3
   },
   "file_extension": ".py",
   "mimetype": "text/x-python",
   "name": "python",
   "nbconvert_exporter": "python",
   "pygments_lexer": "ipython3",
   "version": "3.10.16"
  }
 },
 "nbformat": 4,
 "nbformat_minor": 5
}
