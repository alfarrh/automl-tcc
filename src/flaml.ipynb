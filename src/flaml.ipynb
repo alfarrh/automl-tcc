{
 "cells": [
  {
   "cell_type": "markdown",
   "id": "17215d11",
   "metadata": {},
   "source": [
    "# Configs"
   ]
  },
  {
   "cell_type": "code",
   "execution_count": 1,
   "id": "aac8dfc9",
   "metadata": {},
   "outputs": [],
   "source": [
    "# FlaML configs\n",
    "\n",
    "automl_settings = {\n",
    "    \"metric\": \"roc_auc\",\n",
    "    \"task\": 'classification',\n",
    "    \"verbose\": 1,\n",
    "    \"n_splits\": 5,\n",
    "}"
   ]
  },
  {
   "cell_type": "code",
   "execution_count": 2,
   "id": "a77fd278",
   "metadata": {},
   "outputs": [],
   "source": [
    "from sklearn.metrics import classification_report, roc_auc_score\n",
    "from flaml import AutoML\n",
    "\n",
    "class ModelResults:\n",
    "    automl: AutoML\n",
    "    report: str\n",
    "    roc_auc: float\n",
    "    y_pred_proba: list\n",
    "\n",
    "    def __init__(self, automl, report, roc_auc, y_pred_proba, y_test_bin=None):\n",
    "        self.automl = automl\n",
    "        self.report = report\n",
    "        self.roc_auc = roc_auc\n",
    "        self.y_pred_proba = y_pred_proba\n",
    "        self.y_test_bin = y_test_bin\n",
    "\n",
    "def run_automl(X, y, settings, X_test, y_test, bin=None):\n",
    "    automl = AutoML()\n",
    "    automl.fit(X, y, **settings)\n",
    "\n",
    "    y_pred = automl.predict(X_test)\n",
    "    y_pred_proba = automl.predict_proba(X_test)\n",
    "    \n",
    "    report = classification_report(y_test, y_pred)\n",
    "    roc_auc = roc_auc_score(y_test, y_pred_proba[:, 1])\n",
    "\n",
    "    y_test_bin = y_test if bin is None else (y_test == bin).astype(int)\n",
    "    \n",
    "    return ModelResults(automl, report, roc_auc, y_pred_proba, y_test_bin)"
   ]
  },
  {
   "cell_type": "markdown",
   "id": "90aaef67",
   "metadata": {},
   "source": [
    "# ADULT INCOME"
   ]
  },
  {
   "cell_type": "markdown",
   "id": "8269e100",
   "metadata": {},
   "source": [
    "## Data"
   ]
  },
  {
   "cell_type": "code",
   "execution_count": 3,
   "id": "9df0c4f2",
   "metadata": {},
   "outputs": [
    {
     "name": "stdout",
     "output_type": "stream",
     "text": [
      "Current directory: c:\\Users\\Alvaro Lima\\My Files\\Projects\\automl-tcc\\src\n",
      "Source path found in current directory.\n"
     ]
    }
   ],
   "source": [
    "from libs.paths import PATHS\n",
    "from libs.pre_processing.training_data import read_data, train_test_split\n",
    "from libs.pre_processing.pipeline import make_pipeline"
   ]
  },
  {
   "cell_type": "code",
   "execution_count": 4,
   "id": "6a6b759f",
   "metadata": {},
   "outputs": [
    {
     "name": "stderr",
     "output_type": "stream",
     "text": [
      "c:\\Users\\Alvaro Lima\\My Files\\Projects\\automl-tcc\\src\\libs\\pre_processing\\training_data.py:8: ParserWarning: Falling back to the 'python' engine because the 'c' engine does not support sep=None with delim_whitespace=False; you can avoid this warning by specifying engine='python'.\n",
      "  df = pd.read_csv(path, sep=sep)\n"
     ]
    }
   ],
   "source": [
    "# Raw data\n",
    "X, y = read_data(PATHS[\"ADULT_INCOME\"], \"income\")\n",
    "\n",
    "X_train, X_test, y_train, y_test = train_test_split(\n",
    "        X, y, test_size=0.3, random_state=42)\n",
    "\n",
    "# Pre-processed data\n",
    "pipeline = make_pipeline(X_train)\n",
    "X_transformed = pipeline.fit_transform(X_train)\n",
    "X_test_transformed = pipeline.transform(X_test)"
   ]
  },
  {
   "cell_type": "markdown",
   "id": "60416382",
   "metadata": {},
   "source": [
    "## Flaml"
   ]
  },
  {
   "cell_type": "markdown",
   "id": "1a8718df",
   "metadata": {},
   "source": [
    "### Results"
   ]
  },
  {
   "cell_type": "code",
   "execution_count": 5,
   "id": "8906cb2e",
   "metadata": {},
   "outputs": [
    {
     "name": "stderr",
     "output_type": "stream",
     "text": [
      "c:\\Users\\Alvaro Lima\\miniconda3\\envs\\flaml\\Lib\\site-packages\\sklearn\\utils\\validation.py:2739: UserWarning: X does not have valid feature names, but LGBMClassifier was fitted with feature names\n",
      "  warnings.warn(\n",
      "c:\\Users\\Alvaro Lima\\miniconda3\\envs\\flaml\\Lib\\site-packages\\sklearn\\utils\\validation.py:2739: UserWarning: X does not have valid feature names, but LGBMClassifier was fitted with feature names\n",
      "  warnings.warn(\n",
      "c:\\Users\\Alvaro Lima\\miniconda3\\envs\\flaml\\Lib\\site-packages\\sklearn\\utils\\validation.py:2739: UserWarning: X does not have valid feature names, but LGBMClassifier was fitted with feature names\n",
      "  warnings.warn(\n",
      "c:\\Users\\Alvaro Lima\\miniconda3\\envs\\flaml\\Lib\\site-packages\\sklearn\\utils\\validation.py:2739: UserWarning: X does not have valid feature names, but LGBMClassifier was fitted with feature names\n",
      "  warnings.warn(\n",
      "c:\\Users\\Alvaro Lima\\miniconda3\\envs\\flaml\\Lib\\site-packages\\sklearn\\utils\\validation.py:2739: UserWarning: X does not have valid feature names, but LGBMClassifier was fitted with feature names\n",
      "  warnings.warn(\n",
      "c:\\Users\\Alvaro Lima\\miniconda3\\envs\\flaml\\Lib\\site-packages\\sklearn\\utils\\validation.py:2739: UserWarning: X does not have valid feature names, but LGBMClassifier was fitted with feature names\n",
      "  warnings.warn(\n",
      "c:\\Users\\Alvaro Lima\\miniconda3\\envs\\flaml\\Lib\\site-packages\\sklearn\\utils\\validation.py:2739: UserWarning: X does not have valid feature names, but LGBMClassifier was fitted with feature names\n",
      "  warnings.warn(\n"
     ]
    }
   ],
   "source": [
    "# Pre-processed data results\n",
    "adultinc_results = run_automl(X_transformed, y_train, automl_settings, X_test_transformed, y_test, \">50K\")"
   ]
  },
  {
   "cell_type": "markdown",
   "id": "a601a706",
   "metadata": {},
   "source": [
    "# Online Shop"
   ]
  },
  {
   "cell_type": "markdown",
   "id": "f727f746",
   "metadata": {},
   "source": [
    "## Data"
   ]
  },
  {
   "cell_type": "code",
   "execution_count": 6,
   "id": "c9943e8d",
   "metadata": {},
   "outputs": [],
   "source": [
    "from libs.paths import PATHS\n",
    "from libs.pre_processing.training_data import read_data, train_test_split\n",
    "from libs.pre_processing.pipeline import make_pipeline"
   ]
  },
  {
   "cell_type": "code",
   "execution_count": 7,
   "id": "2848a773",
   "metadata": {},
   "outputs": [
    {
     "name": "stderr",
     "output_type": "stream",
     "text": [
      "c:\\Users\\Alvaro Lima\\My Files\\Projects\\automl-tcc\\src\\libs\\pre_processing\\training_data.py:8: ParserWarning: Falling back to the 'python' engine because the 'c' engine does not support sep=None with delim_whitespace=False; you can avoid this warning by specifying engine='python'.\n",
      "  df = pd.read_csv(path, sep=sep)\n"
     ]
    }
   ],
   "source": [
    "# Raw data\n",
    "X, y = read_data(PATHS[\"ONLINE_SHOP\"], \"Revenue\")\n",
    "\n",
    "X_train, X_test, y_train, y_test = train_test_split(\n",
    "        X, y, test_size=0.3, random_state=42)\n",
    "\n",
    "# Pre-processed data\n",
    "pipeline = make_pipeline(X_train)\n",
    "X_transformed = pipeline.fit_transform(X_train)\n",
    "X_test_transformed = pipeline.transform(X_test)"
   ]
  },
  {
   "cell_type": "code",
   "execution_count": 8,
   "id": "d29592cf",
   "metadata": {},
   "outputs": [
    {
     "data": {
      "text/plain": [
       "((12330, 17), (12330,))"
      ]
     },
     "execution_count": 8,
     "metadata": {},
     "output_type": "execute_result"
    }
   ],
   "source": [
    "X.shape, y.shape"
   ]
  },
  {
   "cell_type": "markdown",
   "id": "2e5a84c9",
   "metadata": {},
   "source": [
    "## Flaml"
   ]
  },
  {
   "cell_type": "code",
   "execution_count": 9,
   "id": "33bc90b6",
   "metadata": {},
   "outputs": [
    {
     "name": "stderr",
     "output_type": "stream",
     "text": [
      "c:\\Users\\Alvaro Lima\\miniconda3\\envs\\flaml\\Lib\\site-packages\\sklearn\\utils\\validation.py:2739: UserWarning: X does not have valid feature names, but LGBMClassifier was fitted with feature names\n",
      "  warnings.warn(\n",
      "c:\\Users\\Alvaro Lima\\miniconda3\\envs\\flaml\\Lib\\site-packages\\sklearn\\utils\\validation.py:2739: UserWarning: X does not have valid feature names, but LGBMClassifier was fitted with feature names\n",
      "  warnings.warn(\n",
      "c:\\Users\\Alvaro Lima\\miniconda3\\envs\\flaml\\Lib\\site-packages\\sklearn\\utils\\validation.py:2739: UserWarning: X does not have valid feature names, but LGBMClassifier was fitted with feature names\n",
      "  warnings.warn(\n",
      "c:\\Users\\Alvaro Lima\\miniconda3\\envs\\flaml\\Lib\\site-packages\\sklearn\\utils\\validation.py:2739: UserWarning: X does not have valid feature names, but LGBMClassifier was fitted with feature names\n",
      "  warnings.warn(\n",
      "c:\\Users\\Alvaro Lima\\miniconda3\\envs\\flaml\\Lib\\site-packages\\sklearn\\utils\\validation.py:2739: UserWarning: X does not have valid feature names, but LGBMClassifier was fitted with feature names\n",
      "  warnings.warn(\n"
     ]
    }
   ],
   "source": [
    "# Pre-processed data results\n",
    "online_results = run_automl(X_transformed, y_train, automl_settings, X_test_transformed, y_test)"
   ]
  },
  {
   "cell_type": "markdown",
   "id": "b450a14e",
   "metadata": {},
   "source": [
    "# Bank Telemarketing"
   ]
  },
  {
   "cell_type": "markdown",
   "id": "28593c0c",
   "metadata": {},
   "source": [
    "## Data"
   ]
  },
  {
   "cell_type": "code",
   "execution_count": 10,
   "id": "f2594b8d",
   "metadata": {},
   "outputs": [],
   "source": [
    "from libs.paths import PATHS\n",
    "from libs.pre_processing.training_data import read_data, train_test_split\n",
    "from libs.pre_processing.pipeline import make_pipeline"
   ]
  },
  {
   "cell_type": "code",
   "execution_count": 11,
   "id": "959cc5a7",
   "metadata": {},
   "outputs": [],
   "source": [
    "# Raw data\n",
    "X, y = read_data(PATHS[\"BANK_MARKETING\"], \"y\", sep=';')\n",
    "\n",
    "X_train, X_test, y_train, y_test = train_test_split(\n",
    "        X, y, test_size=0.3, random_state=42)\n",
    "\n",
    "# Pre-processed data\n",
    "pipeline = make_pipeline(X_train)\n",
    "X_transformed = pipeline.fit_transform(X_train)\n",
    "X_test_transformed = pipeline.transform(X_test)"
   ]
  },
  {
   "cell_type": "code",
   "execution_count": 12,
   "id": "faf714d3",
   "metadata": {},
   "outputs": [
    {
     "data": {
      "text/plain": [
       "((45211, 16), (45211,))"
      ]
     },
     "execution_count": 12,
     "metadata": {},
     "output_type": "execute_result"
    }
   ],
   "source": [
    "X.shape, y.shape"
   ]
  },
  {
   "cell_type": "markdown",
   "id": "a4db8297",
   "metadata": {},
   "source": [
    "## Flaml"
   ]
  },
  {
   "cell_type": "code",
   "execution_count": 13,
   "id": "c651536c",
   "metadata": {},
   "outputs": [
    {
     "name": "stderr",
     "output_type": "stream",
     "text": [
      "c:\\Users\\Alvaro Lima\\miniconda3\\envs\\flaml\\Lib\\site-packages\\sklearn\\utils\\validation.py:2739: UserWarning: X does not have valid feature names, but LGBMClassifier was fitted with feature names\n",
      "  warnings.warn(\n",
      "c:\\Users\\Alvaro Lima\\miniconda3\\envs\\flaml\\Lib\\site-packages\\sklearn\\utils\\validation.py:2739: UserWarning: X does not have valid feature names, but LGBMClassifier was fitted with feature names\n",
      "  warnings.warn(\n",
      "c:\\Users\\Alvaro Lima\\miniconda3\\envs\\flaml\\Lib\\site-packages\\sklearn\\utils\\validation.py:2739: UserWarning: X does not have valid feature names, but LGBMClassifier was fitted with feature names\n",
      "  warnings.warn(\n",
      "c:\\Users\\Alvaro Lima\\miniconda3\\envs\\flaml\\Lib\\site-packages\\sklearn\\utils\\validation.py:2739: UserWarning: X does not have valid feature names, but LGBMClassifier was fitted with feature names\n",
      "  warnings.warn(\n",
      "c:\\Users\\Alvaro Lima\\miniconda3\\envs\\flaml\\Lib\\site-packages\\sklearn\\utils\\validation.py:2739: UserWarning: X does not have valid feature names, but LGBMClassifier was fitted with feature names\n",
      "  warnings.warn(\n",
      "c:\\Users\\Alvaro Lima\\miniconda3\\envs\\flaml\\Lib\\site-packages\\sklearn\\utils\\validation.py:2739: UserWarning: X does not have valid feature names, but LGBMClassifier was fitted with feature names\n",
      "  warnings.warn(\n",
      "c:\\Users\\Alvaro Lima\\miniconda3\\envs\\flaml\\Lib\\site-packages\\sklearn\\utils\\validation.py:2739: UserWarning: X does not have valid feature names, but LGBMClassifier was fitted with feature names\n",
      "  warnings.warn(\n"
     ]
    }
   ],
   "source": [
    "# Pre-processed data results\n",
    "bank_results = run_automl(X_transformed, y_train, automl_settings, X_test_transformed, y_test, \"yes\")"
   ]
  },
  {
   "cell_type": "markdown",
   "id": "fe503bf0",
   "metadata": {},
   "source": [
    "# Results"
   ]
  },
  {
   "cell_type": "markdown",
   "id": "77bf7395",
   "metadata": {},
   "source": [
    "### Best estimators"
   ]
  },
  {
   "cell_type": "code",
   "execution_count": 14,
   "id": "69c223b9",
   "metadata": {},
   "outputs": [
    {
     "name": "stdout",
     "output_type": "stream",
     "text": [
      "Adult Income Results:\n",
      "\n",
      "Best hyperparameters found:  {'n_estimators': 141, 'num_leaves': 139, 'min_child_samples': 8, 'learning_rate': np.float64(0.04824748268727149), 'log_max_bin': 9, 'colsample_bytree': 0.5261441571042451, 'reg_alpha': np.float64(0.0028969208338993344), 'reg_lambda': np.float64(0.024463247502165594)}\n",
      "Best model:  LGBMClassifier(colsample_bytree=0.5261441571042451,\n",
      "               learning_rate=np.float64(0.04824748268727149), max_bin=511,\n",
      "               min_child_samples=8, n_estimators=141, n_jobs=-1, num_leaves=139,\n",
      "               reg_alpha=np.float64(0.0028969208338993344),\n",
      "               reg_lambda=np.float64(0.024463247502165594), verbose=-1)\n",
      "Best score:  (np.float64(0.07325839969574766), {'pred_time': 4.5857748011633424e-06})\n",
      "Raw Data Results:\n",
      "              precision    recall  f1-score   support\n",
      "\n",
      "       <=50K       0.90      0.94      0.92     11233\n",
      "        >50K       0.78      0.67      0.72      3420\n",
      "\n",
      "    accuracy                           0.88     14653\n",
      "   macro avg       0.84      0.81      0.82     14653\n",
      "weighted avg       0.87      0.88      0.88     14653\n",
      "\n",
      "ROC AUC: 0.9317\n"
     ]
    }
   ],
   "source": [
    "print(\"Adult Income Results:\\n\")\n",
    "print(\"Best hyperparameters found: \", adultinc_results.automl.best_config)\n",
    "print(\"Best model: \", adultinc_results.automl.model.estimator)\n",
    "print(\"Best score: \", adultinc_results.automl.metrics_for_best_config)\n",
    "\n",
    "print(\"Raw Data Results:\")\n",
    "print(adultinc_results.report)\n",
    "print(f\"ROC AUC: {adultinc_results.roc_auc:.4f}\")"
   ]
  },
  {
   "cell_type": "code",
   "execution_count": 15,
   "id": "0cf8a31b",
   "metadata": {},
   "outputs": [
    {
     "name": "stdout",
     "output_type": "stream",
     "text": [
      "Bank Marketing Results:\n",
      "\n",
      "Best hyperparameters found:  {'n_estimators': 141, 'num_leaves': 139, 'min_child_samples': 8, 'learning_rate': np.float64(0.04824748268727149), 'log_max_bin': 9, 'colsample_bytree': 0.5261441571042451, 'reg_alpha': np.float64(0.0028969208338993344), 'reg_lambda': np.float64(0.024463247502165594)}\n",
      "Best model:  LGBMClassifier(colsample_bytree=0.5261441571042451,\n",
      "               learning_rate=np.float64(0.04824748268727149), max_bin=511,\n",
      "               min_child_samples=8, n_estimators=141, n_jobs=-1, num_leaves=139,\n",
      "               reg_alpha=np.float64(0.0028969208338993344),\n",
      "               reg_lambda=np.float64(0.024463247502165594), verbose=-1)\n",
      "Best score:  (np.float64(0.0654329837782501), {'pred_time': 3.84223044311371e-06})\n",
      "Raw Data Results:\n",
      "              precision    recall  f1-score   support\n",
      "\n",
      "          no       0.93      0.97      0.95     11966\n",
      "         yes       0.67      0.46      0.54      1598\n",
      "\n",
      "    accuracy                           0.91     13564\n",
      "   macro avg       0.80      0.71      0.75     13564\n",
      "weighted avg       0.90      0.91      0.90     13564\n",
      "\n",
      "ROC AUC: 0.9361\n"
     ]
    }
   ],
   "source": [
    "print(\"Bank Marketing Results:\\n\")\n",
    "\n",
    "print(\"Best hyperparameters found: \", bank_results.automl.best_config)\n",
    "print(\"Best model: \", bank_results.automl.model.estimator)\n",
    "print(\"Best score: \", bank_results.automl.metrics_for_best_config)\n",
    "\n",
    "print(\"Raw Data Results:\")\n",
    "print(bank_results.report)\n",
    "print(f\"ROC AUC: {bank_results.roc_auc:.4f}\")"
   ]
  },
  {
   "cell_type": "code",
   "execution_count": 16,
   "id": "bf0dd955",
   "metadata": {},
   "outputs": [
    {
     "name": "stdout",
     "output_type": "stream",
     "text": [
      "Online Shopping Results:\n",
      "\n",
      "Best hyperparameters found:  {'n_estimators': 319, 'max_leaves': 1312, 'min_child_weight': np.float64(0.001), 'learning_rate': np.float64(0.018723798062704217), 'subsample': 0.6890079660561895, 'colsample_bylevel': 0.7551225121854014, 'colsample_bytree': 0.7860755604500558, 'reg_alpha': np.float64(0.17028752704343114), 'reg_lambda': np.float64(1.4375743264564231)}\n",
      "Best model:  XGBClassifier(base_score=None, booster=None, callbacks=[],\n",
      "              colsample_bylevel=0.7551225121854014, colsample_bynode=None,\n",
      "              colsample_bytree=0.7860755604500558, device=None,\n",
      "              early_stopping_rounds=None, enable_categorical=False,\n",
      "              eval_metric=None, feature_types=None, gamma=None,\n",
      "              grow_policy='lossguide', importance_type=None,\n",
      "              interaction_constraints=None,\n",
      "              learning_rate=np.float64(0.018723798062704217), max_bin=None,\n",
      "              max_cat_threshold=None, max_cat_to_onehot=None,\n",
      "              max_delta_step=None, max_depth=0, max_leaves=1312,\n",
      "              min_child_weight=np.float64(0.001), missing=nan,\n",
      "              monotone_constraints=None, multi_strategy=None, n_estimators=319,\n",
      "              n_jobs=-1, num_parallel_tree=None, random_state=None, ...)\n",
      "Best score:  (np.float64(0.06762699197490374), {'pred_time': 7.203934862690973e-06})\n",
      "Raw Data Results:\n",
      "              precision    recall  f1-score   support\n",
      "\n",
      "       False       0.92      0.96      0.94      3124\n",
      "        True       0.71      0.55      0.62       575\n",
      "\n",
      "    accuracy                           0.90      3699\n",
      "   macro avg       0.82      0.75      0.78      3699\n",
      "weighted avg       0.89      0.90      0.89      3699\n",
      "\n",
      "ROC AUC: 0.9266\n"
     ]
    }
   ],
   "source": [
    "print(\"Online Shopping Results:\\n\")\n",
    "\n",
    "print(\"Best hyperparameters found: \", online_results.automl.best_config)\n",
    "print(\"Best model: \", online_results.automl.model.estimator)\n",
    "print(\"Best score: \", online_results.automl.metrics_for_best_config)\n",
    "\n",
    "print(\"Raw Data Results:\")\n",
    "print(online_results.report)\n",
    "print(f\"ROC AUC: {online_results.roc_auc:.4f}\")"
   ]
  },
  {
   "cell_type": "markdown",
   "id": "b29c9556",
   "metadata": {},
   "source": [
    "### ROC AUC Curves"
   ]
  },
  {
   "cell_type": "code",
   "execution_count": 19,
   "id": "1833e775",
   "metadata": {},
   "outputs": [
    {
     "data": {
      "image/png": "[encoded data removed]",
      "text/plain": [
       "<Figure size 640x480 with 1 Axes>"
      ]
     },
     "metadata": {},
     "output_type": "display_data"
    }
   ],
   "source": [
    "from sklearn.metrics import roc_curve\n",
    "import matplotlib.pyplot as plt\n",
    "\n",
    "# Plotando a curva ROC\n",
    "fpr, tpr, thresholds = roc_curve(adultinc_results.y_test_bin, adultinc_results.y_pred_proba[:, 1])\n",
    "fpr2, tpr2, thresholds2 = roc_curve(bank_results.y_test_bin, bank_results.y_pred_proba[:, 1])\n",
    "fpr3, tpr3, thresholds3 = roc_curve(online_results.y_test_bin, online_results.y_pred_proba[:, 1])\n",
    "\n",
    "plt.figure()\n",
    "plt.plot(fpr2, tpr2, label=f'ROC Adult Income (area = {adultinc_results.roc_auc:.3f})')\n",
    "plt.plot(fpr, tpr, label=f'ROC Bank Telemarketing (area = {bank_results.roc_auc:.3f})')\n",
    "plt.plot(fpr3, tpr3, label=f'ROC Online Shopping (area = {online_results.roc_auc:.3f})')\n",
    "plt.plot([0, 1], [0, 1], 'k--') \n",
    "plt.xlabel('FPR')\n",
    "plt.ylabel('TPR')\n",
    "plt.title('Curva ROC')\n",
    "plt.legend(loc=\"lower right\")\n",
    "plt.show()"
   ]
  }
 ],
 "metadata": {
  "kernelspec": {
   "display_name": "flaml",
   "language": "python",
   "name": "python3"
  },
  "language_info": {
   "codemirror_mode": {
    "name": "ipython",
    "version": 3
   },
   "file_extension": ".py",
   "mimetype": "text/x-python",
   "name": "python",
   "nbconvert_exporter": "python",
   "pygments_lexer": "ipython3",
   "version": "3.13.2"
  }
 },
 "nbformat": 4,
 "nbformat_minor": 5
}
